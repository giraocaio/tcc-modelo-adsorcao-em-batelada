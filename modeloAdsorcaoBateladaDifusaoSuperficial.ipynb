{
 "cells": [
  {
   "cell_type": "code",
   "execution_count": null,
   "metadata": {},
   "outputs": [],
   "source": [
    "from scipy import integrate\n",
    "import matplotlib.pyplot as plt\n",
    "import numpy as np\n",
    "import pandas as pd\n",
    "import plotly.graph_objects as go\n",
    "\n",
    "def getAdsorbedData(Bi = 72.1728,Thi = 0.00957,m = 1):\n",
    "\n",
    "    Da = 0.000000000688 # m²/s\n",
    "    E = 0.17 # adm\n",
    "    Dp = Da*(E/(2-E))**2 # m²/s\n",
    "    R = 0.000313 # m\n",
    "    Ros = 630 # g/L\n",
    "    b = 0.242176195290884 # L/mg\n",
    "    qm = 19.8015873015873 # mg/g\n",
    "    As = 93 # m²/g\n",
    "    Vp = 0.4*10-6 # cm³/g\n",
    "    V = 0.4 # L (dm³)\n",
    "    Ds = 9.5703853591393e-13 # m²/s\n",
    "    Ke = Bi*Dp/(2*R) # m/s\n",
    "    Ki = Thi*E*Dp/(1000*As*Ros*R**2) # m/s\n",
    "    C0 = 99.8 # mg/L\n",
    "\n",
    "\n",
    "    # IVP: t = 0: q = c = 0\n",
    "\n",
    "    def my_system(t, r):\n",
    "        c, q = r\n",
    "        C = C0 - (m/(Ros*V))*(c+Ros*q)\n",
    "        dcdt = (15*Dp/(R**2))* ((Ke*R*C/5+Dp*c+Ros*Ds*q)\\\n",
    "                               /(Ke*R/5+Dp+Ros*Ds*b*qm/(1+b*c))-c) - (Ki*As*Ros/(E*Vp))*(b*qm*c/(1+b*c) - q)\n",
    "        dqdt = (3*Ke/(R*Ros))*(C - (Ke*R*C/5+Dp*c+Ros*Ds*q)/(Ke*R/5+Dp+Ros*Ds*b*qm/(1+b*c))) - (dcdt/Ros)\n",
    "        return dcdt, dqdt\n",
    "\n",
    "    solution = integrate.solve_ivp(my_system, (0,2880*60), (0,0), method='RK45', t_eval=np.linspace(0,2880*60,2880*60+1))\n",
    "    t = solution.t\n",
    "    c, q = solution.y\n",
    "    C = C0 - (m/(Ros*V))*(c+Ros*q)\n",
    "    df_edo = pd.DataFrame()\n",
    "    df_edo['tempo'] = t\n",
    "    df_edo['tempo'] = df_edo['tempo']/60\n",
    "    df_edo['c'] = c\n",
    "    df_edo['q'] = q\n",
    "    df_edo['C'] = C\n",
    "    \n",
    "    return df_edo"
   ]
  },
  {
   "cell_type": "code",
   "execution_count": null,
   "metadata": {},
   "outputs": [],
   "source": [
    "df1 = getAdsorbedData(72.1728,0.00957,1)\n",
    "df2 = getAdsorbedData(95.4114,0.0107,2)\n",
    "df3 = getAdsorbedData(114.5648,0.0107,3)"
   ]
  },
  {
   "cell_type": "code",
   "execution_count": null,
   "metadata": {
    "scrolled": false
   },
   "outputs": [],
   "source": [
    "fig_edo = go.Figure()\n",
    "\n",
    "fig_edo.add_trace(go.Scatter(x=df1['tempo'], y=df1['C'], name = '1/400', marker = dict(color = '#0000FF')))\n",
    "fig_edo.add_trace(go.Scatter(x=df2['tempo'], y=df2['C'], name = '2/400', marker = dict(color = '#FF0000')))\n",
    "fig_edo.add_trace(go.Scatter(x=df3['tempo'], y=df3['C'], name = '3/400', marker = dict(color = '#008000')))\n",
    "\n",
    "fig_edo.update_layout(title='Concentração externa ao longo do tempo',\n",
    "                   xaxis_title='Tempo (min)',\n",
    "                   yaxis_title='Concentração (mg/L)',\n",
    "                   width = 800,\n",
    "                   height = 500)\n",
    "\n",
    "fig_edo.show()"
   ]
  },
  {
   "cell_type": "code",
   "execution_count": null,
   "metadata": {},
   "outputs": [],
   "source": [
    "df_exp = pd.read_csv(\"C:\\\\Users\\\\cgirao\\\\Desktop\\\\tcc_dados_experimentais.csv\",sep=\";\")"
   ]
  },
  {
   "cell_type": "code",
   "execution_count": null,
   "metadata": {},
   "outputs": [],
   "source": [
    "df_exp"
   ]
  },
  {
   "cell_type": "code",
   "execution_count": null,
   "metadata": {},
   "outputs": [],
   "source": [
    "fig_edo.add_trace(go.Scatter(x=df_exp['t'], y=df_exp['C1'], name = '1/400 - exp', mode='markers', marker = dict(color = '#0000FF',symbol = 0)))\n",
    "fig_edo.add_trace(go.Scatter(x=df_exp['t'], y=df_exp['C2'], name = '2/400 - exp', mode='markers', marker = dict(color = '#FF0000',symbol = 4)))\n",
    "fig_edo.add_trace(go.Scatter(x=df_exp['t'], y=df_exp['C3'], name = '3/400 - exp', mode='markers', marker = dict(color = '#008000',symbol = 5)))\n",
    "fig_edo.show()"
   ]
  },
  {
   "cell_type": "code",
   "execution_count": null,
   "metadata": {},
   "outputs": [],
   "source": []
  }
 ],
 "metadata": {
  "kernelspec": {
   "display_name": "Python 3",
   "language": "python",
   "name": "python3"
  },
  "language_info": {
   "codemirror_mode": {
    "name": "ipython",
    "version": 3
   },
   "file_extension": ".py",
   "mimetype": "text/x-python",
   "name": "python",
   "nbconvert_exporter": "python",
   "pygments_lexer": "ipython3",
   "version": "3.9.0"
  }
 },
 "nbformat": 4,
 "nbformat_minor": 4
}
